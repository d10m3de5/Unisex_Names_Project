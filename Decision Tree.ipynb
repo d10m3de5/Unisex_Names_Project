{
  "cells": [
    {
      "metadata": {
        "collapsed": true
      },
      "cell_type": "markdown",
      "source": "# Decision Tree"
    },
    {
      "metadata": {},
      "cell_type": "markdown",
      "source": "### The Decision Tree for this program is based on the user interaction.\n\n### First the user will be asked to enter a name\n\n## Program will check if name is in the list\n### If Yes, check if name is in top 20\n#### Then check if name is less than the mean for male share which is .50\n##### If yes, then the gender will most likely be Female\n##### If no, then the answer is Male\n##### Program ends with a nice message. \n\n### If No, then exits the program \n\n## Program Checks for top 20\n### If Yes, then check if name is less than the mean for male share or .50\n#### If so, then the gender will most likely be Female\n#### If no, then the answer is Male\n## Program Ends with nice message. "
    },
    {
      "metadata": {
        "trusted": true
      },
      "cell_type": "code",
      "source": "",
      "execution_count": null,
      "outputs": []
    }
  ],
  "metadata": {
    "kernelspec": {
      "name": "python36",
      "display_name": "Python 3.6",
      "language": "python"
    },
    "language_info": {
      "mimetype": "text/x-python",
      "nbconvert_exporter": "python",
      "name": "python",
      "pygments_lexer": "ipython3",
      "version": "3.6.6",
      "file_extension": ".py",
      "codemirror_mode": {
        "version": 3,
        "name": "ipython"
      }
    }
  },
  "nbformat": 4,
  "nbformat_minor": 2
}